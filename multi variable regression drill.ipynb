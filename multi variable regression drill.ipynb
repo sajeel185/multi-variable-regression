{
 "cells": [
  {
   "cell_type": "code",
   "execution_count": 77,
   "metadata": {},
   "outputs": [],
   "source": [
    "import pandas as pd\n",
    "import numpy as np\n",
    "import re"
   ]
  },
  {
   "cell_type": "code",
   "execution_count": 78,
   "metadata": {
    "scrolled": true
   },
   "outputs": [
    {
     "name": "stdout",
     "output_type": "stream",
     "text": [
      "                        City Population Violent\\ncrime  \\\n",
      "0              Adams Village      1,861              0   \n",
      "1   Addison Town and Village      2,577              3   \n",
      "2              Akron Village      2,846              3   \n",
      "3                     Albany     97,956            791   \n",
      "4             Albion Village      6,388             23   \n",
      "5             Alfred Village      4,089              5   \n",
      "6           Allegany Village      1,781              3   \n",
      "7               Amherst Town    118,296            107   \n",
      "8         Amityville Village      9,519              9   \n",
      "9                  Amsterdam     18,182             30   \n",
      "10            Arcade Village      2,053              0   \n",
      "11           Ardsley Village      4,523              5   \n",
      "12         Asharoken Village        658              0   \n",
      "13            Attica Village      2,522              2   \n",
      "14                    Auburn     27,270             96   \n",
      "15              Avon Village      3,333              1   \n",
      "16     Baldwinsville Village      7,473              5   \n",
      "17      Ballston Spa Village      5,418              8   \n",
      "18                   Batavia     15,374             57   \n",
      "19              Bath Village      5,733             15   \n",
      "\n",
      "    Murder and\\nnonnegligent\\nmanslaughter  Rape\\n(revised\\ndefinition)1  \\\n",
      "0                                        0                           0.0   \n",
      "1                                        0                           0.0   \n",
      "2                                        0                           0.0   \n",
      "3                                        8                           0.0   \n",
      "4                                        0                           0.0   \n",
      "5                                        0                           0.0   \n",
      "6                                        0                           0.0   \n",
      "7                                        1                           0.0   \n",
      "8                                        0                           0.0   \n",
      "9                                        0                           0.0   \n",
      "10                                       0                           0.0   \n",
      "11                                       0                           0.0   \n",
      "12                                       0                           0.0   \n",
      "13                                       0                           0.0   \n",
      "14                                       1                           0.0   \n",
      "15                                       0                           0.0   \n",
      "16                                       0                           0.0   \n",
      "17                                       0                           0.0   \n",
      "18                                       0                           0.0   \n",
      "19                                       0                           0.0   \n",
      "\n",
      "   Rape\\n(legacy\\ndefinition)2 Robbery Aggravated\\nassault Property\\ncrime  \\\n",
      "0                            0       0                   0              12   \n",
      "1                            0       0                   3              24   \n",
      "2                            0       0                   3              16   \n",
      "3                           30     227                 526           4,090   \n",
      "4                            3       4                  16             223   \n",
      "5                            0       3                   2              46   \n",
      "6                            0       0                   3              10   \n",
      "7                            7      31                  68           2,118   \n",
      "8                            2       4                   3             210   \n",
      "9                            0      12                  18             405   \n",
      "10                           0       0                   0              39   \n",
      "11                           0       3                   2              33   \n",
      "12                           0       0                   0               2   \n",
      "13                           0       0                   2               5   \n",
      "14                          20      22                  53             859   \n",
      "15                           0       1                   0              25   \n",
      "16                           0       1                   4              88   \n",
      "17                           0       3                   5              94   \n",
      "18                           7      13                  37             559   \n",
      "19                           1       3                  11             191   \n",
      "\n",
      "   Burglary Larceny-\\ntheft Motor\\nvehicle\\ntheft  Arson3  \n",
      "0         2              10                     0     0.0  \n",
      "1         3              20                     1     0.0  \n",
      "2         1              15                     0     0.0  \n",
      "3       705           3,243                   142     0.0  \n",
      "4        53             165                     5     0.0  \n",
      "5        10              36                     0     0.0  \n",
      "6         0              10                     0     0.0  \n",
      "7       204           1,882                    32     3.0  \n",
      "8        16             188                     6     1.0  \n",
      "9        99             291                    15     0.0  \n",
      "10        3              35                     1     0.0  \n",
      "11        4              28                     1     0.0  \n",
      "12        0               2                     0     0.0  \n",
      "13        0               4                     1     0.0  \n",
      "14      132             721                     6     0.0  \n",
      "15        3              20                     2     0.0  \n",
      "16       10              77                     1     0.0  \n",
      "17       16              78                     0     1.0  \n",
      "18      103             454                     2     0.0  \n",
      "19       32             157                     2     2.0  \n",
      "(348, 13)\n"
     ]
    }
   ],
   "source": [
    "df = pd.read_csv('new york crime.csv')\n",
    "df = df.drop_duplicates()\n",
    "df = df.fillna(0)\n",
    "\n",
    "print(df.head(20))\n",
    "print(df.shape)"
   ]
  },
  {
   "cell_type": "code",
   "execution_count": 79,
   "metadata": {},
   "outputs": [],
   "source": [
    "comma_out = df['Population'].str.replace(',','')\n",
    "pop_numeric = pd.to_numeric(comma_out)\n",
    "df['PopSquared'] = pop_numeric ** 2\n",
    "#print(df['PopSquared'])"
   ]
  },
  {
   "cell_type": "code",
   "execution_count": 80,
   "metadata": {},
   "outputs": [
    {
     "name": "stdout",
     "output_type": "stream",
     "text": [
      "                       City Population Violent\\ncrime  \\\n",
      "0             Adams Village      1,861              0   \n",
      "1  Addison Town and Village      2,577              3   \n",
      "2             Akron Village      2,846              3   \n",
      "3                    Albany     97,956            791   \n",
      "4            Albion Village      6,388             23   \n",
      "\n",
      "   Murder and\\nnonnegligent\\nmanslaughter  Rape\\n(revised\\ndefinition)1  \\\n",
      "0                                       0                           0.0   \n",
      "1                                       0                           0.0   \n",
      "2                                       0                           0.0   \n",
      "3                                       8                           0.0   \n",
      "4                                       0                           0.0   \n",
      "\n",
      "  Rape\\n(legacy\\ndefinition)2 Robbery Aggravated\\nassault Property\\ncrime  \\\n",
      "0                           0       0                   0              12   \n",
      "1                           0       0                   3              24   \n",
      "2                           0       0                   3              16   \n",
      "3                          30     227                 526           4,090   \n",
      "4                           3       4                  16             223   \n",
      "\n",
      "  Burglary Larceny-\\ntheft Motor\\nvehicle\\ntheft  Arson3  PopSquared  \\\n",
      "0        2              10                     0     0.0     3463321   \n",
      "1        3              20                     1     0.0     6640929   \n",
      "2        1              15                     0     0.0     8099716   \n",
      "3      705           3,243                   142     0.0  9595377936   \n",
      "4       53             165                     5     0.0    40806544   \n",
      "\n",
      "   IndicateMurder  IndicateRobbery  \n",
      "0               0                0  \n",
      "1               0                0  \n",
      "2               0                0  \n",
      "3               1                1  \n",
      "4               0                1  \n"
     ]
    }
   ],
   "source": [
    "df['IndicateMurder'] = np.where(df['Murder and\\nnonnegligent\\nmanslaughter'] > 0, 1, 0)\n",
    "r_numeric = pd.to_numeric(df['Robbery'], errors='coerce')\n",
    "df['IndicateRobbery'] = np.where(r_numeric > 0, 1, 0)\n",
    "\n",
    "print(df.head())"
   ]
  }
 ],
 "metadata": {
  "kernelspec": {
   "display_name": "Python 3",
   "language": "python",
   "name": "python3"
  },
  "language_info": {
   "codemirror_mode": {
    "name": "ipython",
    "version": 3
   },
   "file_extension": ".py",
   "mimetype": "text/x-python",
   "name": "python",
   "nbconvert_exporter": "python",
   "pygments_lexer": "ipython3",
   "version": "3.7.0"
  }
 },
 "nbformat": 4,
 "nbformat_minor": 2
}
