{
 "cells": [
  {
   "cell_type": "code",
   "execution_count": 77,
   "metadata": {},
   "outputs": [],
   "source": [
    "import pandas as pd\n",
    "import numpy as np\n",
    "import re"
   ]
  },
  {
   "cell_type": "code",
   "execution_count": 81,
   "metadata": {
    "scrolled": true
   },
   "outputs": [
    {
     "name": "stdout",
     "output_type": "stream",
     "text": [
      "                       City Population Violent\\ncrime  \\\n",
      "0             Adams Village      1,861              0   \n",
      "1  Addison Town and Village      2,577              3   \n",
      "2             Akron Village      2,846              3   \n",
      "3                    Albany     97,956            791   \n",
      "4            Albion Village      6,388             23   \n",
      "\n",
      "   Murder and\\nnonnegligent\\nmanslaughter  Rape\\n(revised\\ndefinition)1  \\\n",
      "0                                       0                           0.0   \n",
      "1                                       0                           0.0   \n",
      "2                                       0                           0.0   \n",
      "3                                       8                           0.0   \n",
      "4                                       0                           0.0   \n",
      "\n",
      "  Rape\\n(legacy\\ndefinition)2 Robbery Aggravated\\nassault Property\\ncrime  \\\n",
      "0                           0       0                   0              12   \n",
      "1                           0       0                   3              24   \n",
      "2                           0       0                   3              16   \n",
      "3                          30     227                 526           4,090   \n",
      "4                           3       4                  16             223   \n",
      "\n",
      "  Burglary Larceny-\\ntheft Motor\\nvehicle\\ntheft  Arson3  \n",
      "0        2              10                     0     0.0  \n",
      "1        3              20                     1     0.0  \n",
      "2        1              15                     0     0.0  \n",
      "3      705           3,243                   142     0.0  \n",
      "4       53             165                     5     0.0  \n",
      "(348, 13)\n"
     ]
    }
   ],
   "source": [
    "df = pd.read_csv('new york crime.csv')\n",
    "df = df.drop_duplicates()\n",
    "df = df.fillna(0)\n",
    "\n",
    "print(df.head())\n",
    "print(df.shape)"
   ]
  },
  {
   "cell_type": "code",
   "execution_count": 79,
   "metadata": {},
   "outputs": [],
   "source": [
    "comma_out = df['Population'].str.replace(',','')\n",
    "pop_numeric = pd.to_numeric(comma_out)\n",
    "df['PopSquared'] = pop_numeric ** 2\n",
    "#print(df['PopSquared'])"
   ]
  },
  {
   "cell_type": "code",
   "execution_count": 80,
   "metadata": {},
   "outputs": [
    {
     "name": "stdout",
     "output_type": "stream",
     "text": [
      "                       City Population Violent\\ncrime  \\\n",
      "0             Adams Village      1,861              0   \n",
      "1  Addison Town and Village      2,577              3   \n",
      "2             Akron Village      2,846              3   \n",
      "3                    Albany     97,956            791   \n",
      "4            Albion Village      6,388             23   \n",
      "\n",
      "   Murder and\\nnonnegligent\\nmanslaughter  Rape\\n(revised\\ndefinition)1  \\\n",
      "0                                       0                           0.0   \n",
      "1                                       0                           0.0   \n",
      "2                                       0                           0.0   \n",
      "3                                       8                           0.0   \n",
      "4                                       0                           0.0   \n",
      "\n",
      "  Rape\\n(legacy\\ndefinition)2 Robbery Aggravated\\nassault Property\\ncrime  \\\n",
      "0                           0       0                   0              12   \n",
      "1                           0       0                   3              24   \n",
      "2                           0       0                   3              16   \n",
      "3                          30     227                 526           4,090   \n",
      "4                           3       4                  16             223   \n",
      "\n",
      "  Burglary Larceny-\\ntheft Motor\\nvehicle\\ntheft  Arson3  PopSquared  \\\n",
      "0        2              10                     0     0.0     3463321   \n",
      "1        3              20                     1     0.0     6640929   \n",
      "2        1              15                     0     0.0     8099716   \n",
      "3      705           3,243                   142     0.0  9595377936   \n",
      "4       53             165                     5     0.0    40806544   \n",
      "\n",
      "   IndicateMurder  IndicateRobbery  \n",
      "0               0                0  \n",
      "1               0                0  \n",
      "2               0                0  \n",
      "3               1                1  \n",
      "4               0                1  \n"
     ]
    }
   ],
   "source": [
    "df['IndicateMurder'] = np.where(df['Murder and\\nnonnegligent\\nmanslaughter'] > 0, 1, 0)\n",
    "r_numeric = pd.to_numeric(df['Robbery'], errors='coerce')\n",
    "df['IndicateRobbery'] = np.where(r_numeric > 0, 1, 0)\n",
    "\n",
    "print(df.head())"
   ]
  }
 ],
 "metadata": {
  "kernelspec": {
   "display_name": "Python 3",
   "language": "python",
   "name": "python3"
  },
  "language_info": {
   "codemirror_mode": {
    "name": "ipython",
    "version": 3
   },
   "file_extension": ".py",
   "mimetype": "text/x-python",
   "name": "python",
   "nbconvert_exporter": "python",
   "pygments_lexer": "ipython3",
   "version": "3.7.0"
  }
 },
 "nbformat": 4,
 "nbformat_minor": 2
}
